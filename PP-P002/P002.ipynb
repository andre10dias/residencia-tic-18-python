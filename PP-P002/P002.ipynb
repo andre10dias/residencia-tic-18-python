{
 "cells": [
  {
   "cell_type": "markdown",
   "metadata": {},
   "source": [
    "### Atividade Pratica P002"
   ]
  },
  {
   "cell_type": "markdown",
   "metadata": {},
   "source": [
    "##### Exercicio 01. Utilizando estruturas de Controle"
   ]
  },
  {
   "cell_type": "code",
   "execution_count": null,
   "metadata": {},
   "outputs": [],
   "source": [
    "# Lista de tarefas (usando tuplas para cada tarefa)\n",
    "tasks = []\n",
    "\n",
    "# Adicionar uma nova tarefa\n",
    "def Add_tarefa(Descrição):\n",
    "    #ler tamnho da lista e incrementar +1 para o proximo, adicionar a tarefa no final usando append \n",
    "    tasks.append((len(tasks) + 1, Descrição, \"[ ]\"))  # ID, descrição, status inicial\n",
    "    print(\"Tarefa registrada!!!\")\n",
    "# Marcar uma tarefa como realizada\n",
    "def Completar_task(id):\n",
    "    #len(tasks): Retorna o número de elementos na lista tasks.\n",
    "    #Verificar o intervalos entre a primeira e ultima tarefa\n",
    "    if 1 <= id <= len(tasks):\n",
    "        task = tasks.pop(id - 1)  # Remove a tarefa da posição atual e a armazena\n",
    "        task = (task[0], task[1], \"[x]\")  # Atualiza o status para concluída\n",
    "        tasks.insert(0, task)  # Insere a tarefa no início da lista\n",
    "        print(\"Tarefa marcada como realizada!!!\")\n",
    "    else:\n",
    "        print(\"Tarefa não encontrada.\")\n",
    "# Editar uma tarefa\n",
    "def editar_task(id, nova_descrição):\n",
    "    #Verificar o intervalos entre a primeira e ultima tarefa\n",
    "    if 1 <= id <= len(tasks):\n",
    "        #lista começa em 0 e vai ate o final n-1 \n",
    "        tasks[id - 1] = (tasks[id - 1][0], nova_descrição, tasks[id - 1][2])  # Atualiza a descrição\n",
    "        print(\"Tarefa editada com sucesso!!!\")\n",
    "\n",
    "# Exibir a lista de tarefas\n",
    "def Exibir_tasks():\n",
    "    if not tasks:\n",
    "        print(\"Não há tarefas registradas.\")\n",
    "    else:\n",
    "        print(\"Tarefas:\")\n",
    "        for tafefa in tasks:\n",
    "            print(f\"{tafefa[0]}. {tafefa[1]} {tafefa[2]}\")  # Mostra ID, descrição e status\n",
    "\n",
    "# Menu principal\n",
    "while True:\n",
    "    print(\"\\n===== ToDoList =====\")\n",
    "    print(\"1. Listar tarefas\")\n",
    "    print(\"2. Adicionar tarefa\")\n",
    "    print(\"3. Marcar tarefa como realizada\")\n",
    "    print(\"4. Editar tarefa\")\n",
    "    print(\"0. Sair\")\n",
    "\n",
    "    opção = input(\"Escolha uma opção: \")\n",
    "    if opção == \"1\":\n",
    "        Exibir_tasks()\n",
    "    elif opção == \"2\":\n",
    "        descrição = input(\"Digite a descrição da tarefa: \")\n",
    "        Add_tarefa(descrição.capitalize())\n",
    "    elif opção == \"3\":\n",
    "        while True:\n",
    "            try:\n",
    "                id = int(input(\"Digite o ID da tarefa a ser marcada como realizada: \"))\n",
    "                Completar_task(id)\n",
    "                break  # Se a conversão para int for bem-sucedida, sai do loop\n",
    "            except ValueError:\n",
    "                print(\"Por favor, digite um número inteiro para o ID da tarefa.\")\n",
    "    elif opção == \"4\":\n",
    "        while True:\n",
    "            try:\n",
    "                id = int(input(\"Digite o ID da tarefa a ser editada: \"))\n",
    "                descrição = input(\"Digite a nova descrição da tarefa: \")\n",
    "                editar_task(id, descrição.capitalize())\n",
    "                break  # Se a conversão para int for bem-sucedida, sai do loop\n",
    "            except ValueError:\n",
    "                print(\"Por favor, digite um número inteiro para o ID da tarefa.\")\n",
    "    elif opção == \"0\":\n",
    "        break\n",
    "    else:\n",
    "        print(\"Opção inválida. Tente novamente.\")\n"
   ]
  }
 ],
 "metadata": {
  "kernelspec": {
   "display_name": "Python 3",
   "language": "python",
   "name": "python3"
  },
  "language_info": {
   "codemirror_mode": {
    "name": "ipython",
    "version": 3
   },
   "file_extension": ".py",
   "mimetype": "text/x-python",
   "name": "python",
   "nbconvert_exporter": "python",
   "pygments_lexer": "ipython3",
   "version": "3.10.12"
  }
 },
 "nbformat": 4,
 "nbformat_minor": 2
}
