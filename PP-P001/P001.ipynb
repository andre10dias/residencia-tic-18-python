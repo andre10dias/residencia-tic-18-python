{
 "cells": [
  {
   "cell_type": "markdown",
   "metadata": {},
   "source": [
    "#### Pratica P001"
   ]
  },
  {
   "cell_type": "markdown",
   "metadata": {},
   "source": [
    "#### Questão 02"
   ]
  },
  {
   "cell_type": "markdown",
   "metadata": {},
   "source": [
    "###### Operadores aritmeticos simples"
   ]
  },
  {
   "cell_type": "code",
   "execution_count": 51,
   "metadata": {},
   "outputs": [
    {
     "name": "stdout",
     "output_type": "stream",
     "text": [
      "13\n",
      "7\n",
      "30\n",
      "3.3333333333333335\n",
      "3\n",
      "1\n",
      "1000\n"
     ]
    }
   ],
   "source": [
    "# Operadores aritméticos simples em Python\n",
    "a = 10\n",
    "b = 3\n",
    "\n",
    "# Adição\n",
    "print(a + b)  # Saída: 13\n",
    "\n",
    "# Subtração\n",
    "print(a - b)  # Saída: 7\n",
    "\n",
    "# Multiplicação\n",
    "print(a * b)  # Saída: 30\n",
    "\n",
    "# Divisão\n",
    "print(a / b)  # Saída: 3.3333333333333335\n",
    "\n",
    "# Divisão inteira\n",
    "print(a // b)  # Saída: 3\n",
    "\n",
    "# Módulo (Resto da divisão)\n",
    "print(a % b)  # Saída: 1\n",
    "\n",
    "# Exponenciação\n",
    "print(a ** b)  # Saída: 1000\n"
   ]
  },
  {
   "cell_type": "markdown",
   "metadata": {},
   "source": [
    "###### Operadores Aritmeticos Compostos"
   ]
  },
  {
   "cell_type": "code",
   "execution_count": 52,
   "metadata": {},
   "outputs": [
    {
     "name": "stdout",
     "output_type": "stream",
     "text": [
      "8\n",
      "16\n",
      "5\n",
      "25\n"
     ]
    }
   ],
   "source": [
    "# Operadores aritméticos compostos em Python\n",
    "x = 5\n",
    "\n",
    "# Adição composta\n",
    "x += 3  # Equivalente a x = x + 3\n",
    "print(x)  # Saída: 8\n",
    "\n",
    "# Multiplicação composta\n",
    "x *= 2  # Equivalente a x = x * 2\n",
    "print(x)  # Saída: 16\n",
    "\n",
    "# Divisão inteira composta\n",
    "x //= 3  # Equivalente a x = x // 3\n",
    "print(x)  # Saída: 5\n",
    "\n",
    "# Exponenciação composta\n",
    "x **= 2  # Equivalente a x = x ** 2\n",
    "print(x)  # Saída: 25\n"
   ]
  },
  {
   "cell_type": "markdown",
   "metadata": {},
   "source": [
    "Diferenças python com o c++\n",
    "\n",
    "Divisão de inteiros: Em Python, a divisão / entre inteiros sempre gera um resultado de ponto flutuante, enquanto em C/C++, a divisão entre inteiros resulta em um valor inteiro truncado (a parte decimal é descartada). Em Python, você pode usar // para obter o quociente inteiro.\n",
    "\n",
    "Tipagem dinâmica: Python é uma linguagem de tipagem dinâmica, portanto, as operações podem ser realizadas entre diferentes tipos de dados sem a necessidade de conversão explícita de tipo.\n",
    "\n",
    "Operador de exponenciação: Em Python, o operador ** é usado para exponenciação, enquanto em C/C++, geralmente se usa a função pow() da biblioteca math.\n",
    "\n",
    "Operadores compostos: Python oferece operadores compostos (+=, -=, *=, etc.), que combinam operações e atribuições em uma única expressão, tornando o código mais sucinto.\n",
    "\n",
    "Sem overflow/underflow: Python lida automaticamente com estouro (overflow) e subfluxo (underflow) de valores inteiros, ao contrário de C/C++, onde esses problemas podem ocorrer se não for feita uma manipulação cuidadosa."
   ]
  },
  {
   "cell_type": "markdown",
   "metadata": {},
   "source": [
    "Maior Fatorial em python compado com c++"
   ]
  },
  {
   "cell_type": "code",
   "execution_count": 53,
   "metadata": {},
   "outputs": [
    {
     "name": "stdout",
     "output_type": "stream",
     "text": [
      "O fatorial de 30 é: 265252859812191058636308480000000\n",
      "O maior valor inteiro representável em Python é: 9223372036854775807\n",
      "O fatorial de 30 é maior que o maior valor inteiro representável em Python.\n"
     ]
    }
   ],
   "source": [
    "import sys\n",
    "import math\n",
    "\n",
    "# Calcular o fatorial de 30\n",
    "fatorial_30 = math.factorial(30)\n",
    "\n",
    "# Obter o maior valor inteiro representável em Python\n",
    "maior_inteiro_python = sys.maxsize\n",
    "\n",
    "print(f'O fatorial de 30 é: {fatorial_30}')\n",
    "print(f'O maior valor inteiro representável em Python é: {maior_inteiro_python}')\n",
    "\n",
    "if fatorial_30 > maior_inteiro_python:\n",
    "    print('O fatorial de 30 é maior que o maior valor inteiro representável em Python.')\n",
    "else:\n",
    "    print('O fatorial de 30 é menor ou igual ao maior valor inteiro representável em Python.')\n"
   ]
  },
  {
   "cell_type": "markdown",
   "metadata": {},
   "source": [
    "Para comparar com o maior valor inteiro representável em C++, podemos usar a constante ULLONG_MAX que representa o maior valor para unsigned long long em sistemas de 64 bits.\n",
    "```cpp\n",
    "#include <iostream>\n",
    "#include <climits>\n",
    "using namespace std;\n",
    "\n",
    "unsigned long long fatorial(int n) {\n",
    "    if (n == 0 || n == 1)\n",
    "        return 1;\n",
    "    else\n",
    "        return n * fatorial(n - 1);\n",
    "}\n",
    "\n",
    "int main() {\n",
    "    int numero = 30;\n",
    "    unsigned long long resultado_fatorial = fatorial(numero);\n",
    "    \n",
    "    cout << \"Fatorial de \" << numero << \" é: \" << resultado_fatorial << endl;\n",
    "    \n",
    "    if (resultado_fatorial > ULLONG_MAX) {\n",
    "        cout << \"O fatorial de \" << numero << \" é maior que o valor máximo representável.\" << endl;\n",
    "    } else {\n",
    "        cout << \"O fatorial de \" << numero << \" é menor ou igual ao valor máximo representável.\" << endl;\n",
    "    }\n",
    "\n",
    "    return 0;\n",
    "}\n",
    "\n",
    "```\n",
    "ao executar esse código, verificaremos que o fatorial de 30 que é aproximadamente 2.65 x 10^32 "
   ]
  },
  {
   "cell_type": "markdown",
   "metadata": {},
   "source": [
    "###### Variaveis numericas imutaveis\n",
    "\n",
    "\n",
    "Atribuição de novo valor: Quando uma variável numérica é reatribuída, na verdade, ela não está modificando seu valor original, mas criando um novo objeto na memória e atualizando a variável para apontar para esse novo objeto."
   ]
  },
  {
   "cell_type": "code",
   "execution_count": 54,
   "metadata": {},
   "outputs": [
    {
     "name": "stdout",
     "output_type": "stream",
     "text": [
      "139622647284080\n",
      "139622647284240\n"
     ]
    }
   ],
   "source": [
    "# Exemplo de reatribuição de variável numérica\n",
    "x = 5\n",
    "print(id(x))  # Identificador único do objeto\n",
    "\n",
    "x = 10  # Reatribuição\n",
    "print(id(x))  # Novo identificador único do novo objeto\n"
   ]
  },
  {
   "cell_type": "markdown",
   "metadata": {},
   "source": [
    "Operações não modificam a variável original: Operações aritméticas ou outras operações não modificam a variável original, elas criam um novo valor e, se necessário, atualizam a variável para apontar para esse novo valor."
   ]
  },
  {
   "cell_type": "code",
   "execution_count": 55,
   "metadata": {},
   "outputs": [
    {
     "name": "stdout",
     "output_type": "stream",
     "text": [
      "139622647284144\n",
      "139622647284240\n"
     ]
    }
   ],
   "source": [
    "# Exemplo de operações aritméticas em variáveis numéricas\n",
    "y = 7\n",
    "print(id(y))  # Identificador único do objeto\n",
    "\n",
    "y = y + 3  # A operação cria um novo valor (7 + 3) e atualiza y\n",
    "print(id(y))  # Novo identificador único do novo objeto\n"
   ]
  },
  {
   "cell_type": "markdown",
   "metadata": {},
   "source": [
    "Funções não alteram variáveis globais: Se uma variável numérica global é usada dentro de uma função e reatribuída, ela cria uma nova referência local na função, sem modificar o valor da variável global."
   ]
  },
  {
   "cell_type": "code",
   "execution_count": 56,
   "metadata": {},
   "outputs": [
    {
     "name": "stdout",
     "output_type": "stream",
     "text": [
      "Valor dentro da função: 20\n",
      "Valor fora da função: 15\n"
     ]
    }
   ],
   "source": [
    "global_var = 15\n",
    "\n",
    "def altera_var(valor):\n",
    "    valor += 5\n",
    "    print(\"Valor dentro da função:\", valor)\n",
    "\n",
    "altera_var(global_var)\n",
    "print(\"Valor fora da função:\", global_var)  # A variável global não foi alterada\n"
   ]
  },
  {
   "cell_type": "markdown",
   "metadata": {},
   "source": [
    " Em Python, as variáveis inteiras (do tipo int) são objetos que possuem métodos e funcionalidades embutidas.\n",
    "\n",
    "int.bit_length(): Retorna o número mínimo de bits necessário para representar o valor inteiro, excluindo o sinal e considerando apenas a parte significativa."
   ]
  },
  {
   "cell_type": "code",
   "execution_count": 57,
   "metadata": {},
   "outputs": [
    {
     "name": "stdout",
     "output_type": "stream",
     "text": [
      "6\n"
     ]
    }
   ],
   "source": [
    "num = 42\n",
    "print(num.bit_length())  # Saída: 6"
   ]
  },
  {
   "cell_type": "markdown",
   "metadata": {},
   "source": [
    "int.to_bytes(length, byteorder, signed=False): Converte um inteiro para um array de bytes."
   ]
  },
  {
   "cell_type": "code",
   "execution_count": 58,
   "metadata": {},
   "outputs": [
    {
     "name": "stdout",
     "output_type": "stream",
     "text": [
      "b'\\x04\\xd2'\n"
     ]
    }
   ],
   "source": [
    "num = 1234\n",
    "bytes_array = num.to_bytes(2, byteorder='big')\n",
    "print(bytes_array)  # Saída: b'\\x04\\xd2'"
   ]
  },
  {
   "cell_type": "markdown",
   "metadata": {},
   "source": [
    "int.from_bytes(bytes, byteorder, signed=False): Converte um array de bytes para um inteiro."
   ]
  },
  {
   "cell_type": "code",
   "execution_count": 59,
   "metadata": {},
   "outputs": [
    {
     "name": "stdout",
     "output_type": "stream",
     "text": [
      "1234\n"
     ]
    }
   ],
   "source": [
    "bytes_array = b'\\x04\\xd2'\n",
    "num = int.from_bytes(bytes_array, byteorder='big')\n",
    "print(num)  # Saída: 1234\n"
   ]
  },
  {
   "cell_type": "markdown",
   "metadata": {},
   "source": [
    "Métodos de conversão: Os inteiros têm métodos embutidos para conversão para outros tipos de dados, como float, str, hex, bin, oct, entre outros."
   ]
  },
  {
   "cell_type": "code",
   "execution_count": 60,
   "metadata": {},
   "outputs": [
    {
     "name": "stdout",
     "output_type": "stream",
     "text": [
      "42.0\n",
      "0x2a\n",
      "0b101010\n",
      "0o52\n"
     ]
    }
   ],
   "source": [
    "num = 42\n",
    "print(float(num))  # Saída: 42.0\n",
    "print(hex(num))    # Saída: '0x2a'\n",
    "print(bin(num))    # Saída: '0b101010'\n",
    "print(oct(num))    # Saída: '0o52'\n"
   ]
  },
  {
   "cell_type": "markdown",
   "metadata": {},
   "source": [
    "##### Questão 03"
   ]
  },
  {
   "cell_type": "markdown",
   "metadata": {},
   "source": [
    "Em python podemos utilizar a função ord() para obter o valor numérico correspondente de um caractere e a função chr() para obter o caractere correspondente a um valor numérico."
   ]
  },
  {
   "cell_type": "code",
   "execution_count": 61,
   "metadata": {},
   "outputs": [
    {
     "name": "stdout",
     "output_type": "stream",
     "text": [
      "'0' - 48\n",
      "'1' - 49\n",
      "'2' - 50\n",
      "'3' - 51\n",
      "'4' - 52\n",
      "'5' - 53\n",
      "'6' - 54\n",
      "'7' - 55\n",
      "'8' - 56\n",
      "'9' - 57\n"
     ]
    }
   ],
   "source": [
    "for i in range(10):\n",
    "    # Imprime o caractere e seu valor numérico utilizando formatação\n",
    "    print(f\"'{chr(48 + i)}' - {ord(chr(48 + i))}\")\n"
   ]
  },
  {
   "cell_type": "markdown",
   "metadata": {},
   "source": [
    " Podemos usar as funções oct() e hex() para obter a representação octal e hexadecimal dos valores numéricos. Aqui está o código atualizado:"
   ]
  },
  {
   "cell_type": "code",
   "execution_count": 62,
   "metadata": {},
   "outputs": [
    {
     "name": "stdout",
     "output_type": "stream",
     "text": [
      "'0' - Decimal: 48, Octal: 0o60, Hexadecimal: 0x30\n",
      "'1' - Decimal: 49, Octal: 0o61, Hexadecimal: 0x31\n",
      "'2' - Decimal: 50, Octal: 0o62, Hexadecimal: 0x32\n",
      "'3' - Decimal: 51, Octal: 0o63, Hexadecimal: 0x33\n",
      "'4' - Decimal: 52, Octal: 0o64, Hexadecimal: 0x34\n",
      "'5' - Decimal: 53, Octal: 0o65, Hexadecimal: 0x35\n",
      "'6' - Decimal: 54, Octal: 0o66, Hexadecimal: 0x36\n",
      "'7' - Decimal: 55, Octal: 0o67, Hexadecimal: 0x37\n",
      "'8' - Decimal: 56, Octal: 0o70, Hexadecimal: 0x38\n",
      "'9' - Decimal: 57, Octal: 0o71, Hexadecimal: 0x39\n"
     ]
    }
   ],
   "source": [
    "for i in range(10):\n",
    "    # Obtém o valor numérico do caractere\n",
    "    valor_numerico = ord(chr(48 + i))\n",
    "    \n",
    "    # Imprime o caractere e seu valor numérico em decimal, octal e hexadecimal\n",
    "    print(f\"'{chr(48 + i)}' - Decimal: {valor_numerico}, Octal: {oct(valor_numerico)}, Hexadecimal: {hex(valor_numerico)}\")\n"
   ]
  },
  {
   "cell_type": "markdown",
   "metadata": {},
   "source": [
    " Para ler um caractere da entrada padrão em Python, podemos utilizar a função input() para capturar a entrada do usuário. "
   ]
  },
  {
   "cell_type": "code",
   "execution_count": 63,
   "metadata": {},
   "outputs": [
    {
     "ename": "TypeError",
     "evalue": "ord() expected a character, but string of length 10 found",
     "output_type": "error",
     "traceback": [
      "\u001b[0;31m---------------------------------------------------------------------------\u001b[0m",
      "\u001b[0;31mTypeError\u001b[0m                                 Traceback (most recent call last)",
      "\u001b[1;32m/home/daniel/Área de Trabalho/GitHub/residencia-tic-18-python/PP-P001/P001.ipynb Célula 31\u001b[0m line \u001b[0;36m5\n\u001b[1;32m      <a href='vscode-notebook-cell:/home/daniel/%C3%81rea%20de%20Trabalho/GitHub/residencia-tic-18-python/PP-P001/P001.ipynb#X60sZmlsZQ%3D%3D?line=1'>2</a>\u001b[0m caractere \u001b[39m=\u001b[39m \u001b[39minput\u001b[39m(\u001b[39m\"\u001b[39m\u001b[39mDigite um caractere: \u001b[39m\u001b[39m\"\u001b[39m)\n\u001b[1;32m      <a href='vscode-notebook-cell:/home/daniel/%C3%81rea%20de%20Trabalho/GitHub/residencia-tic-18-python/PP-P001/P001.ipynb#X60sZmlsZQ%3D%3D?line=3'>4</a>\u001b[0m \u001b[39m# Obtém o valor numérico do caractere inserido\u001b[39;00m\n\u001b[0;32m----> <a href='vscode-notebook-cell:/home/daniel/%C3%81rea%20de%20Trabalho/GitHub/residencia-tic-18-python/PP-P001/P001.ipynb#X60sZmlsZQ%3D%3D?line=4'>5</a>\u001b[0m valor_numerico \u001b[39m=\u001b[39m \u001b[39mord\u001b[39;49m(caractere)\n\u001b[1;32m      <a href='vscode-notebook-cell:/home/daniel/%C3%81rea%20de%20Trabalho/GitHub/residencia-tic-18-python/PP-P001/P001.ipynb#X60sZmlsZQ%3D%3D?line=6'>7</a>\u001b[0m \u001b[39m# Imprime o caractere e seu valor numérico em decimal, octal e hexadecimal\u001b[39;00m\n\u001b[1;32m      <a href='vscode-notebook-cell:/home/daniel/%C3%81rea%20de%20Trabalho/GitHub/residencia-tic-18-python/PP-P001/P001.ipynb#X60sZmlsZQ%3D%3D?line=7'>8</a>\u001b[0m \u001b[39mprint\u001b[39m(\u001b[39mf\u001b[39m\u001b[39m\"\u001b[39m\u001b[39m'\u001b[39m\u001b[39m{\u001b[39;00mcaractere\u001b[39m}\u001b[39;00m\u001b[39m'\u001b[39m\u001b[39m - Decimal: \u001b[39m\u001b[39m{\u001b[39;00mvalor_numerico\u001b[39m}\u001b[39;00m\u001b[39m, Octal: \u001b[39m\u001b[39m{\u001b[39;00m\u001b[39moct\u001b[39m(valor_numerico)\u001b[39m}\u001b[39;00m\u001b[39m, Hexadecimal: \u001b[39m\u001b[39m{\u001b[39;00m\u001b[39mhex\u001b[39m(valor_numerico)\u001b[39m}\u001b[39;00m\u001b[39m\"\u001b[39m)\n",
      "\u001b[0;31mTypeError\u001b[0m: ord() expected a character, but string of length 10 found"
     ]
    }
   ],
   "source": [
    "# Solicita ao usuário para inserir um caractere\n",
    "caractere = input(\"Digite um caractere: \")\n",
    "\n",
    "# Obtém o valor numérico do caractere inserido\n",
    "valor_numerico = ord(caractere)\n",
    "\n",
    "# Imprime o caractere e seu valor numérico em decimal, octal e hexadecimal\n",
    "print(f\"'{caractere}' - Decimal: {valor_numerico}, Octal: {oct(valor_numerico)}, Hexadecimal: {hex(valor_numerico)}\")\n"
   ]
  },
  {
   "cell_type": "markdown",
   "metadata": {},
   "source": [
    "Em Python, os caracteres especiais como 'ç', 'ã' e outros acentuados são tratados usando codificações de caracteres, como UTF-8. Por padrão, Python 3 utiliza UTF-8 como codificação para lidar com caracteres especiais e acentuados."
   ]
  },
  {
   "cell_type": "code",
   "execution_count": null,
   "metadata": {},
   "outputs": [],
   "source": [
    "# Solicita ao usuário para inserir um caractere\n",
    "caractere = input(\"Digite um caractere: \")\n",
    "\n",
    "# Obtém o valor numérico do caractere inserido\n",
    "valor_numerico = ord(caractere)\n",
    "\n",
    "# Imprime o caractere e seu valor numérico em decimal, octal e hexadecimal\n",
    "print(f\"'{caractere}' - Decimal: {valor_numerico}, Octal: {oct(valor_numerico)}, Hexadecimal: {hex(valor_numerico)}\")\n",
    "\n",
    "# Exemplo com caracteres especiais 'ç' e 'ã'\n",
    "caractere_especial1 = 'ç'\n",
    "caractere_especial2 = 'ã'\n",
    "\n",
    "# Obtém o valor numérico dos caracteres especiais\n",
    "valor_numerico_1 = ord(caractere_especial1)\n",
    "valor_numerico_2 = ord(caractere_especial2)\n",
    "\n",
    "# Imprime os caracteres especiais e seus valores numéricos em decimal, octal e hexadecimal\n",
    "print(f\"'{caractere_especial1}' - Decimal: {valor_numerico_1}, Octal: {oct(valor_numerico_1)}, Hexadecimal: {hex(valor_numerico_1)}\")\n",
    "print(f\"'{caractere_especial2}' - Decimal: {valor_numerico_2}, Octal: {oct(valor_numerico_2)}, Hexadecimal: {hex(valor_numerico_2)}\")\n"
   ]
  },
  {
   "cell_type": "markdown",
   "metadata": {},
   "source": [
    "#### Questão 04"
   ]
  },
  {
   "cell_type": "code",
   "execution_count": null,
   "metadata": {},
   "outputs": [
    {
     "name": "stdout",
     "output_type": "stream",
     "text": [
      "Daniel Oliveira da Silva\n"
     ]
    }
   ],
   "source": [
    "nome = \"Daniel Oliveira\n",
    "print(nome)\n"
   ]
  },
  {
   "cell_type": "code",
   "execution_count": null,
   "metadata": {},
   "outputs": [
    {
     "name": "stdout",
     "output_type": "stream",
     "text": [
      "Nome: Daniel\n",
      "Sobrenome: Oliveira\n"
     ]
    }
   ],
   "source": [
    "nome_completo = \"Daniel Oliveira\"\n",
    "# Usando o método split para separar o nome e o sobrenome\n",
    "partes_nome = nome_completo.split()\n",
    "\n",
    "# Atribuindo o nome e sobrenome a variáveis separadas\n",
    "nome = partes_nome[0]  # Primeira parte é o nome\n",
    "sobrenome = partes_nome[1]  # Segunda parte é o sobrenome\n",
    "\n",
    "print(\"Nome:\", nome)\n",
    "print(\"Sobrenome:\", sobrenome)\n"
   ]
  },
  {
   "cell_type": "code",
   "execution_count": null,
   "metadata": {},
   "outputs": [
    {
     "name": "stdout",
     "output_type": "stream",
     "text": [
      "Daniel vem antes de oliveira na ordem alfabética.\n"
     ]
    }
   ],
   "source": [
    "nome_completo = \"Daniel oliveira\"\n",
    "partes_nome = nome_completo.split()\n",
    "\n",
    "nome = partes_nome[0]\n",
    "sobrenome = partes_nome[1]\n",
    "\n",
    "# Verificar a ordem alfabética entre nome e sobrenome\n",
    "if nome < sobrenome:\n",
    "    print(f\"{nome} vem antes de {sobrenome} na ordem alfabética.\")\n",
    "elif nome > sobrenome:\n",
    "    print(f\"{nome} vem depois de {sobrenome} na ordem alfabética.\")\n",
    "else:\n",
    "    print(f\"{nome} e {sobrenome} são iguais na ordem alfabética.\")\n"
   ]
  },
  {
   "cell_type": "code",
   "execution_count": null,
   "metadata": {},
   "outputs": [],
   "source": [
    "nome_completo = \"Daniel Oliveira\"\n",
    "partes_nome = nome_completo.split()\n",
    "\n",
    "nome = partes_nome[0]\n",
    "sobrenome = partes_nome[1]\n",
    "\n",
    "# Verificando a quantidade de caracteres em cada variável\n",
    "comprimento_nome = len(nome)\n",
    "comprimento_sobrenome = len(sobrenome)\n",
    "\n",
    "print(f\"O nome '{nome}' possui {comprimento_nome} caracteres.\")\n",
    "print(f\"O sobrenome '{sobrenome}' possui {comprimento_sobrenome} caracteres.\")\n"
   ]
  },
  {
   "cell_type": "code",
   "execution_count": null,
   "metadata": {},
   "outputs": [
    {
     "name": "stdout",
     "output_type": "stream",
     "text": [
      "ama é um palíndromo.\n"
     ]
    }
   ],
   "source": [
    "nome = \"ama\"\n",
    "\n",
    "# Verifica se a string original é igual à sua versão invertida\n",
    "if nome == nome[::-1]:\n",
    "    print(f\"{nome} é um palíndromo.\")\n",
    "else:\n",
    "    print(f\"{nome} não é um palíndromo.\")\n"
   ]
  },
  {
   "cell_type": "markdown",
   "metadata": {},
   "source": [
    "### Questão 05"
   ]
  },
  {
   "cell_type": "code",
   "execution_count": null,
   "metadata": {},
   "outputs": [],
   "source": [
    "# Operadores aritméticos\n",
    "x = 10\n",
    "y = 3\n",
    "\n",
    "print(f\"soma = {x} + {y} = {x + y}\")\n",
    "print(f\"subtracao = {x} - {y} = {x - y}\")\n",
    "print(f\"multiplicacao = {x} * {y} = {x * y}\")\n",
    "print(f\"divisao = {x} / {y} = {x / y}\")\n",
    "\n",
    "# Operadores aritméticos compostos\n",
    "x += 5  # Equivalente a \"x = x + 5\"\n",
    "x -= 2  # Equivalente a \"x = x - 2\"\n",
    "y *= 4  # Equivalente a \"y = y * 4\"\n",
    "y /= 2  # Equivalente a \"y = y / 2\"\n",
    "\n",
    "print(f\"x += 5 = {x}\")\n",
    "print(f\"x -= 2 = {x}\")\n",
    "print(f\"y *= 4 = {y}\")\n",
    "print(f\"y /= 2 = {y}\")\n",
    "\n",
    "# Operador de exponenciação\n",
    "maior_potencia = 2 ** 10  # Maior potência de 2 representável em Python (1024)\n",
    "menor_potencia = 2 ** -5  # Menor potência de 2 normalizada em Python (0.03125)\n",
    "\n",
    "print(f\"\\nMaior potência de 2 representável: {maior_potencia}\")\n",
    "print(f\"Menor potência de 2 normalizada: {menor_potencia}\")\n",
    "\n",
    "# Atribuição de valor a uma variável de ponto flutuante\n",
    "numero1 = 4.5\n",
    "numero2 = numero1\n",
    "\n",
    "print(f\"\\nnumero1 = {numero1}\")\n",
    "print(f\"numero2 = {numero2}\")\n",
    "\n",
    "# Tentativa de modificar o valor da variável\n",
    "numero1 *= 3  # Isso cria uma nova instância da variável, não modifica o valor original\n",
    "\n",
    "print(f\"numero1 = {numero1}\")\n",
    "print(f\"numero2 = {numero2}\")\n",
    "\n",
    "# Métodos disponíveis para variáveis de ponto flutuante\n",
    "ponto_flutuante = 5.7\n",
    "\n",
    "# Método para arredondar para o inteiro mais próximo\n",
    "inteiro_proximo = round(ponto_flutuante)\n",
    "# Método para converter para inteiro\n",
    "inteiro = int(ponto_flutuante)\n",
    "\n",
    "# Método para obter a parte inteira\n",
    "parte_inteira = ponto_flutuante.__int__()\n",
    "\n",
    "print(f\"\\nNúmero original: {ponto_flutuante}\")\n",
    "print(f\"Arredondado para o inteiro mais próximo: {inteiro_proximo}\")\n",
    "print(f\"Convertido para inteiro: {inteiro}\")\n",
    "print(f\"Parte inteira: {parte_inteira}\")\n"
   ]
  },
  {
   "cell_type": "markdown",
   "metadata": {},
   "source": [
    "#### Questão 06"
   ]
  },
  {
   "cell_type": "code",
   "execution_count": null,
   "metadata": {},
   "outputs": [],
   "source": [
    "L = [1, 2, 3, 4, 5, 6, 7, 8, 9]\n",
    "\n",
    "# Inverte a lista utilizando a notação de slice com passo -1\n",
    "print(L[::-1])  # Resultado: [9, 8, 7, 6, 5, 4, 3, 2, 1]\n",
    "\n",
    "# Retorna uma lista com o último elemento\n",
    "print(L[-1::])  # Resultado: [9]\n",
    "\n",
    "# Retorna uma lista excluindo o último elemento\n",
    "print(L[:-1:])  # Resultado: [1, 2, 3, 4, 5, 6, 7, 8]\n",
    "\n",
    "# Inverte a lista utilizando a notação de slice com passo -2 (pula de 2 em 2 de trás para frente)\n",
    "print(L[::-2])  # Resultado: [9, 7, 5, 3, 1]\n",
    "\n",
    "# Retorna uma lista com o penúltimo elemento\n",
    "print(L[-2::])  # Resultado: [8, 9]\n",
    "\n",
    "# Retorna uma lista excluindo os dois últimos elementos\n",
    "print(L[:-2:])  # Resultado: [1, 2, 3, 4, 5, 6, 7]\n"
   ]
  },
  {
   "cell_type": "code",
   "execution_count": 64,
   "metadata": {},
   "outputs": [
    {
     "name": "stdout",
     "output_type": "stream",
     "text": [
      "Seu signo do zodíaco chinês é: Serpente\n"
     ]
    }
   ],
   "source": [
    "data_nascimento = input(\"Informe sua data de nascimento (DD/MM/AAAA): \")\n",
    "\n",
    "# Extrair o ano da data de nascimento fornecida (considerando o formato DD/MM/AAAA)\n",
    "ano_nascimento = int(data_nascimento.split('/')[-1])\n",
    "\n",
    "# Determinar o signo com base no resto da divisão do ano de nascimento por 12\n",
    "zoodiaco = ano_nascimento % 12\n",
    "\n",
    "# Tabela de correspondência de números de 0 a 11 para os signos do zodíaco chinês\n",
    "signos_zoodiaco = [\n",
    "    \"Macaco\", \"Galo\", \"Cão\", \"Porco\", \"Rato\", \"Boi\",\n",
    "    \"Tigre\", \"Coelho\", \"Dragão\", \"Serpente\", \"Cavalo\", \"Carneiro\"\n",
    "]\n",
    "\n",
    "# Mostrar o signo correspondente com base no número calculado\n",
    "signo = signos_zoodiaco[zoodiaco]\n",
    "print(f\"Seu calculo: {zoodiaco}\")\n",
    "print(f\"Seu signo do zodíaco chinês é: {signo}\")\n",
    "\n"
   ]
  }
 ],
 "metadata": {
  "kernelspec": {
   "display_name": "Python 3",
   "language": "python",
   "name": "python3"
  },
  "language_info": {
   "codemirror_mode": {
    "name": "ipython",
    "version": 3
   },
   "file_extension": ".py",
   "mimetype": "text/x-python",
   "name": "python",
   "nbconvert_exporter": "python",
   "pygments_lexer": "ipython3",
   "version": "3.10.12"
  }
 },
 "nbformat": 4,
 "nbformat_minor": 2
}
