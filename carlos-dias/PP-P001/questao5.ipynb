{
 "cells": [
  {
   "cell_type": "code",
   "execution_count": 12,
   "metadata": {},
   "outputs": [
    {
     "name": "stdout",
     "output_type": "stream",
     "text": [
      "soma = 5 + 2 = 7\n",
      "subtracao = 5 - 2 = 3\n",
      "multiplicacao = 5 * 2 = 10\n",
      "divisao = 5 / 2 = 2.5\n",
      "x += 3 = 5\n",
      "x -= 3 = 5\n",
      "y *= 2 = 2.0\n",
      "y /= 2 = 2.0\n",
      "\n",
      "Maior potência de 2 representável: 9223372036854775808\n",
      "Menor potência de 2 normalizada: 2.220446049250313e-16\n",
      "\n",
      "numero1 = 3.14\n",
      "numero2 = 3.14\n",
      "numero1 = 6.28\n",
      "numero2 = 3.14\n",
      "\n",
      "Número original: 3.9\n",
      "Arredondado para o inteiro mais próximo: 4\n",
      "Convertido para inteiro: 3\n",
      "Parte inteira: 3\n"
     ]
    }
   ],
   "source": [
    "# Operadores aritméticos\n",
    "x = 5\n",
    "y = 2\n",
    "\n",
    "print(f\"soma = {x} + {y} = {x + y}\")\n",
    "print(f\"subtracao = {x} - {y} = {x - y}\")\n",
    "print(f\"multiplicacao = {x} * {y} = {x * y}\")\n",
    "print(f\"divisao = {x} / {y} = {x / y}\")\n",
    "\n",
    "# Operadores aritméticos compostos\n",
    "x += 3  # Equivalente a \"x = x + 3\"\n",
    "x -= 3  # Equivalente a \"x = x - 3\"\n",
    "y *= 2  # Equivalente a \"y = y * 2\"\n",
    "y /= 2  # Equivalente a \"y = y / 2\"\n",
    "\n",
    "print(f\"x += 3 = {x}\")\n",
    "print(f\"x -= 3 = {x}\")\n",
    "print(f\"y *= 2 = {y}\")\n",
    "print(f\"y /= 2 = {y}\")\n",
    "\n",
    "# Operador de exponenciação\n",
    "maior_potencia = 2 ** 63  # Maior potência de 2 representável em Python (64 bits)\n",
    "menor_potencia = 2 ** -52  # Menor potência de 2 normalizada em Python (representação de ponto flutuante IEEE 754)\n",
    "\n",
    "print(f\"\\nMaior potência de 2 representável: {maior_potencia}\")\n",
    "print(f\"Menor potência de 2 normalizada: {menor_potencia}\")\n",
    "\n",
    "# Atribuição de valor a uma variável de ponto flutuante\n",
    "numero1 = 3.14\n",
    "numero2 = numero1\n",
    "\n",
    "print(f\"\\nnumero1 = {numero1}\")\n",
    "print(f\"numero2 = {numero2}\")\n",
    "\n",
    "# Tentativa de modificar o valor da variável\n",
    "numero1 *= 2  # Isso cria uma nova instância da variável, não modifica o valor original\n",
    "\n",
    "print(f\"numero1 = {numero1}\")\n",
    "print(f\"numero2 = {numero2}\")\n",
    "\n",
    "# Métodos disponíveis para variáveis de ponto flutuante\n",
    "ponto_flutuante = 3.9\n",
    "\n",
    "# Método para arredondar para o inteiro mais próximo\n",
    "inteiro_proximo = round(ponto_flutuante)\n",
    "\n",
    "# Método para converter para inteiro\n",
    "inteiro = int(ponto_flutuante)\n",
    "\n",
    "# Método para obter a parte inteira\n",
    "parte_inteira = ponto_flutuante.__int__()\n",
    "\n",
    "print(f\"\\nNúmero original: {ponto_flutuante}\")\n",
    "print(f\"Arredondado para o inteiro mais próximo: {inteiro_proximo}\")\n",
    "print(f\"Convertido para inteiro: {inteiro}\")\n",
    "print(f\"Parte inteira: {parte_inteira}\")"
   ]
  }
 ],
 "metadata": {
  "kernelspec": {
   "display_name": "base",
   "language": "python",
   "name": "python3"
  },
  "language_info": {
   "codemirror_mode": {
    "name": "ipython",
    "version": 3
   },
   "file_extension": ".py",
   "mimetype": "text/x-python",
   "name": "python",
   "nbconvert_exporter": "python",
   "pygments_lexer": "ipython3",
   "version": "3.11.5"
  }
 },
 "nbformat": 4,
 "nbformat_minor": 2
}
