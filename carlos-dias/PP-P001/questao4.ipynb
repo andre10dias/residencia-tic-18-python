{
 "cells": [
  {
   "cell_type": "code",
   "execution_count": 4,
   "metadata": {},
   "outputs": [
    {
     "name": "stdout",
     "output_type": "stream",
     "text": [
      "Os nomes são iguais na ordem alfabética.\n",
      "Quantidade de caracteres no nome: 3\n",
      "Quantidade de caracteres no sobrenome: 3\n",
      "111 é um palíndromo!\n"
     ]
    }
   ],
   "source": [
    "# Passo 1: Declare uma variável nome atribuindo a ela seu nome completo\n",
    "nome_completo = \"Carlos Dias\"\n",
    "\n",
    "# Passo 2: Pesquise por funcionalidades já implementadas nas strings e separe em duas variáveis novas seu nome do seu sobrenome\n",
    "nome, sobrenome = nome_completo.split(maxsplit=1)\n",
    "\n",
    "# Passo 3: Verifique qual das duas novas variáveis antecede a outra na ordem alfabética\n",
    "if nome < sobrenome:\n",
    "    print(f\"{nome} antecede {sobrenome} na ordem alfabética.\")\n",
    "elif nome > sobrenome:\n",
    "    print(f\"{sobrenome} antecede {nome} na ordem alfabética.\")\n",
    "else:\n",
    "    print(\"Os nomes são iguais na ordem alfabética.\")\n",
    "\n",
    "# Passo 4: Verifique a quantidade de caracteres de cada uma das novas variáveis\n",
    "quantidade_caracteres_nome = len(nome)\n",
    "quantidade_caracteres_sobrenome = len(sobrenome)\n",
    "\n",
    "print(f\"Quantidade de caracteres no nome: {quantidade_caracteres_nome}\")\n",
    "print(f\"Quantidade de caracteres no sobrenome: {quantidade_caracteres_sobrenome}\")\n",
    "\n",
    "# Passo 5: Verifique se seu nome é uma palíndromo\n",
    "if nome == nome[::-1]:\n",
    "    print(f\"{nome} é um palíndromo!\")\n",
    "else:\n",
    "    print(f\"{nome} não é um palíndromo.\")"
   ]
  }
 ],
 "metadata": {
  "kernelspec": {
   "display_name": "base",
   "language": "python",
   "name": "python3"
  },
  "language_info": {
   "codemirror_mode": {
    "name": "ipython",
    "version": 3
   },
   "file_extension": ".py",
   "mimetype": "text/x-python",
   "name": "python",
   "nbconvert_exporter": "python",
   "pygments_lexer": "ipython3",
   "version": "3.11.5"
  }
 },
 "nbformat": 4,
 "nbformat_minor": 2
}
