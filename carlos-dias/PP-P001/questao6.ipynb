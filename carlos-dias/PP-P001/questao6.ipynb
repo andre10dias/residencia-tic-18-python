{
 "cells": [
  {
   "cell_type": "code",
   "execution_count": 6,
   "metadata": {},
   "outputs": [
    {
     "name": "stdout",
     "output_type": "stream",
     "text": [
      "[9, 8, 7, 6, 5, 4, 3, 2, 1]\n",
      "[9]\n",
      "[1, 2, 3, 4, 5, 6, 7, 8]\n",
      "[9, 7, 5, 3, 1]\n",
      "[8, 9]\n",
      "[1, 2, 3, 4, 5, 6, 7]\n",
      "Cão\n"
     ]
    }
   ],
   "source": [
    "# Manipulando listas\n",
    "L = [1, 2, 3, 4, 5, 6, 7, 8, 9]\n",
    "\n",
    "print(L[::-1])\n",
    "print(L[-1::])\n",
    "print(L[:-1:])\n",
    "print(L[::-2])\n",
    "print(L[-2::])\n",
    "print(L[:-2:])\n",
    "\n",
    "# Zoodiaco chinês\n",
    "ano_nascimento = int(input(\"Informe seu ano de nascimento: \"))\n",
    "zoodiaco = ano_nascimento % 12\n",
    "\n",
    "match int(zoodiaco):\n",
    "    case 0:\n",
    "        print(\"Macaco\")\n",
    "\n",
    "    case 1:\n",
    "        print(\"Galo\")\n",
    "\n",
    "    case 2:\n",
    "        print(\"Cão\")\n",
    "\n",
    "    case 3:\n",
    "        print(\"Porco\")\n",
    "\n",
    "    case 4:\n",
    "        print(\"Rato\")\n",
    "\n",
    "    case 5:\n",
    "        print(\"Boi\")\n",
    "\n",
    "    case 6:\n",
    "        print(\"Tigre\")\n",
    "\n",
    "    case 7:\n",
    "        print(\"Coelho\")\n",
    "\n",
    "    case 8:\n",
    "        print(\"Dragão\")\n",
    "\n",
    "    case 9:\n",
    "        print(\"Serpente\")\n",
    "\n",
    "    case 10:\n",
    "        print(\"Cavalo\")\n",
    "\n",
    "    case 11:\n",
    "        print(\"Carneiro\")\n",
    "\n"
   ]
  }
 ],
 "metadata": {
  "kernelspec": {
   "display_name": "base",
   "language": "python",
   "name": "python3"
  },
  "language_info": {
   "codemirror_mode": {
    "name": "ipython",
    "version": 3
   },
   "file_extension": ".py",
   "mimetype": "text/x-python",
   "name": "python",
   "nbconvert_exporter": "python",
   "pygments_lexer": "ipython3",
   "version": "3.11.5"
  }
 },
 "nbformat": 4,
 "nbformat_minor": 2
}
